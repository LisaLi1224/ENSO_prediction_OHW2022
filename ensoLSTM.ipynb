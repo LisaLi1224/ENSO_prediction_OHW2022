{
  "nbformat": 4,
  "nbformat_minor": 0,
  "metadata": {
    "colab": {
      "provenance": [],
      "authorship_tag": "ABX9TyNiERSpDz49gsFNQNme3JMY",
      "include_colab_link": true
    },
    "kernelspec": {
      "name": "python3",
      "display_name": "Python 3"
    },
    "language_info": {
      "name": "python"
    }
  },
  "cells": [
    {
      "cell_type": "markdown",
      "metadata": {
        "id": "view-in-github",
        "colab_type": "text"
      },
      "source": [
        "<a href=\"https://colab.research.google.com/github/LisaLi1224/ENSO_prediction_OHW2022/blob/main/ensoLSTM.ipynb\" target=\"_parent\"><img src=\"https://colab.research.google.com/assets/colab-badge.svg\" alt=\"Open In Colab\"/></a>"
      ]
    },
    {
      "cell_type": "markdown",
      "source": [],
      "metadata": {
        "id": "0M5mXrVKW_aj"
      }
    },
    {
      "cell_type": "code",
      "source": [
        "import pandas as pd\n",
        "import numpy as np  \n",
        "from tensorflow import keras\n",
        "import tensorflow as tf\n",
        "import matplotlib.pyplot as plt\n",
        "from keras.models import Sequential\n",
        "from keras.layers.convolutional import Conv3D\n",
        "import pylab as plt\n",
        "import xarray as xr\n",
        "import random"
      ],
      "metadata": {
        "id": "8eOnTaf-W_mP"
      },
      "execution_count": null,
      "outputs": []
    },
    {
      "cell_type": "code",
      "source": [
        "X_val = np.load('X_valid_sst_new.npy')\n",
        "Y_val = np.load('Y_valid_sst_new.npy')\n",
        "X_train = np.load('X_train_sst_new.npy')\n",
        "Y_train = np.load('Y_train_sst_new.npy')"
      ],
      "metadata": {
        "id": "j251R8lMXAlW"
      },
      "execution_count": null,
      "outputs": []
    },
    {
      "cell_type": "code",
      "source": [
        "X_train = X_train.transpose((0, 3, 1, 2))\n",
        "X_train = np.expand_dims(X_train, axis = 4)\n",
        "X_train.shape"
      ],
      "metadata": {
        "id": "KmAGu-3GXAqe"
      },
      "execution_count": null,
      "outputs": []
    },
    {
      "cell_type": "code",
      "source": [
        "X_val = X_val.transpose((0, 3, 1, 2))\n",
        "X_val = np.expand_dims(X_val, axis = 4)\n",
        "X_val.shape"
      ],
      "metadata": {
        "id": "adfh2-iEXAtO"
      },
      "execution_count": null,
      "outputs": []
    },
    {
      "cell_type": "code",
      "source": [
        "def create_convlstm_model(input_shape):\n",
        "    x = keras.layers.Input(shape = input_shape)\n",
        "    \n",
        "    y = keras.layers.ConvLSTM2D(12, (3,3), activation='relu', padding = 'same',return_sequences=True)(x)\n",
        "    y = keras.layers.MaxPooling3D(pool_size=(1, 4, 4))(y)\n",
        "\n",
        "    y = keras.layers.ConvLSTM2D(24, (3,3), activation='relu', padding = 'same',return_sequences=True)(y)\n",
        "    y = keras.layers.MaxPooling3D(pool_size=(1, 4, 4))(y)\n",
        "\n",
        "    y = keras.layers.ConvLSTM2D(24, (3,3), activation='relu', padding = 'same',return_sequences=False)(y)\n",
        "    \n",
        "    y = keras.layers.GlobalAveragePooling2D()(y)\n",
        "\n",
        "#    y = keras.layers.Dropout(0.5)\n",
        "    \n",
        "    y = keras.layers.Dense(12) (y)    # add final output layer with a softmax activation\n",
        "    model = keras.models.Model(inputs=x, outputs=y)\n",
        "    \n",
        "    model.compile(optimizer='adam', loss='mean_squared_error', metrics=['MeanSquaredError'])\n",
        "    \n",
        "    return model"
      ],
      "metadata": {
        "id": "o_xgj4TkXAv1"
      },
      "execution_count": null,
      "outputs": []
    },
    {
      "cell_type": "code",
      "source": [
        "def create_convlstm_model_simple(input_shape):\n",
        "    x = keras.layers.Input(shape = input_shape)\n",
        "    \n",
        "    y = keras.layers.ConvLSTM2D(12, (3,3), activation='relu', padding = 'same',return_sequences=True)(x)\n",
        "    y = keras.layers.MaxPooling3D(pool_size=(1, 4, 4))(y)\n",
        "    \n",
        "    y = keras.layers.ConvLSTM2D(24, (3,3), activation='relu', padding = 'same',return_sequences=True)(y)\n",
        "    y = keras.layers.MaxPooling3D(pool_size=(1, 2, 2))(y)\n",
        "    \n",
        "    y = keras.layers.ConvLSTM2D(24, (3,3), activation='relu', padding = 'same',return_sequences=False)(y)\n",
        "    \n",
        "    y = keras.layers.GlobalAveragePooling2D()(y)\n",
        "\n",
        "#    y = keras.layers.Dropout(0.5)\n",
        "    \n",
        "    y = keras.layers.Dense(12) (y)    # add final output layer with a softmax activation\n",
        "    model = keras.models.Model(inputs=x, outputs=y)\n",
        "    \n",
        "    model.compile(optimizer='adam', loss='mean_squared_error', metrics=['MeanSquaredError'])\n",
        "    \n",
        "    return model"
      ],
      "metadata": {
        "id": "ol9qLKKyXGT7"
      },
      "execution_count": null,
      "outputs": []
    },
    {
      "cell_type": "code",
      "source": [
        "CONVLSTM = create_convlstm_model_simple(input_shape = (12,10,43,1))\n",
        "CONVLSTM.summary()"
      ],
      "metadata": {
        "id": "8wVAnTebXGXl"
      },
      "execution_count": null,
      "outputs": []
    },
    {
      "cell_type": "code",
      "source": [
        "n_epochs = 10\n",
        "hist = CONVLSTM.fit(X_train,Y_train, epochs=n_epochs, validation_data=(X_val,Y_val))"
      ],
      "metadata": {
        "id": "WNxxAyirXGat"
      },
      "execution_count": null,
      "outputs": []
    },
    {
      "cell_type": "code",
      "source": [
        "Y_predictions = CONVLSTM.predict(X_val)\n",
        "error = np.sqrt(np.mean((Y_val - Y_predictions)**2, axis=0))"
      ],
      "metadata": {
        "id": "zcOiN9gjXGd3"
      },
      "execution_count": null,
      "outputs": []
    },
    {
      "cell_type": "code",
      "source": [
        "enso1='~/ENSO_SST/ENSO_Project_SST_r1i1001p1f1.nc'\n",
        "enso1 = xr.open_dataset(enso1)  #xarray can open different format data, netcdf is one of them\n",
        "print(enso1)                                \n",
        "\n",
        "sst_1 = enso1['SST'].values; df_sst_1 = enso1.to_dataframe()\n",
        "\n",
        "weights = np.cos(np.deg2rad(enso1.lat)); weights.name = \"weights\" # area of the cell scales as dlat*dlon*cos(lat) and we can use it to compute weighted averages; note, dlat=dlon for this dataset.\n",
        "SST_mean = enso1['SST'].weighted(weights).mean(dim=['lat','lon']) # this IS area-weighted mean\n",
        "SST_mean_runningMean=SST_mean.rolling(time=12*5,center=True).mean() # global mean smoothed over many months\n",
        "\n",
        "plt.figure(figsize=(10,5))\n",
        "SST_mean.plot(label=\"SST\" )\n",
        "SST_mean_runningMean.plot(label=\"SST rolling mean\", linewidth=5 );\n",
        "\n",
        "enso1_clim=enso1.groupby(\"time.month\").mean('time') # calculate anomalies\n",
        "enso1_a = enso1.groupby(\"time.month\")-enso1_clim\n",
        "\n",
        "NINO34 = enso1_a['SST'].sel(lat=slice(-5,5), lon=slice(190,240)).mean(dim=['lat','lon'])\n",
        "ONI= NINO34.rolling(time=3,center=True).mean() #rolling mean over 3 months\n",
        "\n",
        "plt.figure(figsize=(10,3))\n",
        "ax=plt.gca()\n",
        "plt.plot(ONI.time, ONI,'k')\n",
        "ax.fill_between(ONI.time.data, 0.5, ONI, ONI> 0.5, color='red', alpha=.75)\n",
        "ax.fill_between(ONI.time.data, -0.5, ONI, ONI< -0.5, color='blue',  alpha=.75)\n",
        "plt.ylim((-4,4))\n",
        "plt.grid(visible=True)\n",
        "plt.ylabel('Oceanic Niño Index [$^\\circ C$]');"
      ],
      "metadata": {
        "id": "0xl_pe2KXGg8"
      },
      "execution_count": null,
      "outputs": []
    },
    {
      "cell_type": "code",
      "source": [
        "error_persistent = np.zeros((300,12))\n",
        "for i in range(300):\n",
        "    i0= random.randint(0,len(NINO34)-13)\n",
        "    error_persistent[i,:] = (NINO34[i0+1:i0+13] - NINO34[i0].values*np.ones(12))**2\n",
        "rms_persistence = (np.mean(error_persistent, axis=0))**0.5\n",
        "plt.figure(figsize=(16,8))\n",
        "plt.plot(rms_persistence,label='Persistent')\n",
        "plt.axhline(np.std(NINO34), color='k', linestyle='--',label = 'Std' )\n",
        "plt.axhline(np.std(NINO34)/2, color='r', linestyle='--', label = 'Half Std')\n",
        "plt.plot(error, label = 'ConvLSTM')\n",
        "plt.plot(error_CNN2D, label = 'CNN2D')\n",
        "plt.plot(error_EOFS_new, label = 'EOFS_LSTM')\n",
        "plt.xlabel('Month', fontsize = 14)\n",
        "plt.ylabel('RMSE', fontsize = 14)\n",
        "plt.legend(loc=\"lower right\", fontsize = 14)\n",
        "plt.ylim(0,1.8)\n",
        "plt.title('ENSO Method Comparison', fontsize = 14)\n",
        "plt.savefig('image.pdf')"
      ],
      "metadata": {
        "id": "s786cAR5XGjj"
      },
      "execution_count": null,
      "outputs": []
    },
    {
      "cell_type": "code",
      "source": [
        "error_CNN2D = np.load('errorCNN2D.npy')\n",
        "error_CNN2D"
      ],
      "metadata": {
        "id": "ADYYVev0XGmY"
      },
      "execution_count": null,
      "outputs": []
    },
    {
      "cell_type": "code",
      "source": [
        "error_EOFS = (0.45306018, 0.50301179, 0.58489728, 0.67432795, 0.76667389, 0.83503021,\n",
        " 0.89187198, 0.94002651, 0.98277326, 1.00845311, 1.03435177, 1.08307097)\n",
        "error_EOFS_new = np.asarray(error_EOFS)"
      ],
      "metadata": {
        "id": "BG5CEpjMXGpo"
      },
      "execution_count": null,
      "outputs": []
    },
    {
      "cell_type": "code",
      "source": [],
      "metadata": {
        "id": "LXfBrkshXGsa"
      },
      "execution_count": null,
      "outputs": []
    },
    {
      "cell_type": "code",
      "source": [],
      "metadata": {
        "id": "bxpD4-RwXAyb"
      },
      "execution_count": null,
      "outputs": []
    }
  ]
}